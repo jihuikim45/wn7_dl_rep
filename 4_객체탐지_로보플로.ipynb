{
 "cells": [
  {
   "cell_type": "markdown",
   "id": "0ec219a7",
   "metadata": {},
   "source": [
    "# 가상환경 torch_cuda_yolo_env\n",
    "\n",
    "# 추론 객체 감지"
   ]
  },
  {
   "cell_type": "code",
   "execution_count": 1,
   "id": "61359735",
   "metadata": {},
   "outputs": [
    {
     "name": "stdout",
     "output_type": "stream",
     "text": [
      "torch: 2.5.1+cu121 cuda: 12.1 is_available: True\n"
     ]
    }
   ],
   "source": [
    "import torch\n",
    "print(\"torch:\", torch.__version__, \n",
    "      \"cuda:\", torch.version.cuda, \n",
    "      \"is_available:\", \n",
    "      torch.cuda.is_available())"
   ]
  },
  {
   "cell_type": "code",
   "execution_count": 2,
   "id": "410ad4da",
   "metadata": {},
   "outputs": [
    {
     "data": {
      "text/plain": [
       "'AEShFH33iLAQspAQK5Vx'"
      ]
     },
     "execution_count": 2,
     "metadata": {},
     "output_type": "execute_result"
    }
   ],
   "source": [
    "import os\n",
    "from dotenv import load_dotenv\n",
    "loaded = load_dotenv()\n",
    "os.getenv('ROBOFLOW_API_KEY')"
   ]
  },
  {
   "cell_type": "code",
   "execution_count": 3,
   "id": "f01dc462",
   "metadata": {},
   "outputs": [
    {
     "data": {
      "text/plain": [
       "<inference_sdk.http.client.InferenceHTTPClient at 0x75166f5a4bb0>"
      ]
     },
     "execution_count": 3,
     "metadata": {},
     "output_type": "execute_result"
    }
   ],
   "source": [
    "from inference_sdk import InferenceHTTPClient\n",
    "CLIENT = InferenceHTTPClient(\n",
    "api_url=\"https://detect.roboflow.com\",  \n",
    "api_key=os.getenv('ROBOFLOW_API_KEY')\n",
    ")\n",
    "CLIENT"
   ]
  },
  {
   "cell_type": "code",
   "execution_count": 7,
   "id": "02883595",
   "metadata": {},
   "outputs": [
    {
     "name": "stdout",
     "output_type": "stream",
     "text": [
      "True\n"
     ]
    }
   ],
   "source": [
    "import os\n",
    "print(os.path.exists(\"sample.png\"))"
   ]
  },
  {
   "cell_type": "code",
   "execution_count": 8,
   "id": "3ecf5d19",
   "metadata": {},
   "outputs": [
    {
     "data": {
      "text/plain": [
       "{'inference_id': '94e72d48-af8e-4015-a396-07c63a2cd85a',\n",
       " 'time': 0.05123657200010712,\n",
       " 'image': {'width': 777, 'height': 593},\n",
       " 'predictions': [{'x': 535.5,\n",
       "   'y': 454.0,\n",
       "   'width': 209.0,\n",
       "   'height': 202.0,\n",
       "   'confidence': 0.9349880218505859,\n",
       "   'class': 'Rock',\n",
       "   'class_id': 1,\n",
       "   'detection_id': '2f855b01-457b-444e-9a07-ef4e5fdfca3f'},\n",
       "  {'x': 581.5,\n",
       "   'y': 159.5,\n",
       "   'width': 369.0,\n",
       "   'height': 257.0,\n",
       "   'confidence': 0.7297772765159607,\n",
       "   'class': 'Scissors',\n",
       "   'class_id': 2,\n",
       "   'detection_id': '54327758-dd6b-4991-b2ed-4c4b97013f13'},\n",
       "  {'x': 226.0,\n",
       "   'y': 436.0,\n",
       "   'width': 314.0,\n",
       "   'height': 256.0,\n",
       "   'confidence': 0.6648696660995483,\n",
       "   'class': 'Scissors',\n",
       "   'class_id': 2,\n",
       "   'detection_id': '0df03d34-9975-4115-ba6f-f2bfe35c873c'},\n",
       "  {'x': 190.0,\n",
       "   'y': 161.5,\n",
       "   'width': 134.0,\n",
       "   'height': 139.0,\n",
       "   'confidence': 0.45636704564094543,\n",
       "   'class': 'Rock',\n",
       "   'class_id': 1,\n",
       "   'detection_id': '609118ba-8dec-44e0-a920-d065bc099db3'}]}"
      ]
     },
     "execution_count": 8,
     "metadata": {},
     "output_type": "execute_result"
    }
   ],
   "source": [
    "result = CLIENT.infer('sample.png', model_id=\"rock-paper-scissors-sxsw/14\")\n",
    "result"
   ]
  },
  {
   "cell_type": "code",
   "execution_count": 9,
   "id": "3c68b229",
   "metadata": {},
   "outputs": [
    {
     "name": "stdout",
     "output_type": "stream",
     "text": [
      "535.5 454.0 209.0 202.0 0.9349880218505859 Rock\n",
      "581.5 159.5 369.0 257.0 0.7297772765159607 Scissors\n",
      "226.0 436.0 314.0 256.0 0.6648696660995483 Scissors\n",
      "190.0 161.5 134.0 139.0 0.45636704564094543 Rock\n"
     ]
    },
    {
     "name": "stderr",
     "output_type": "stream",
     "text": [
      "[ WARN:0@707.130] global loadsave.cpp:241 findDecoder imread_('sample.jpg'): can't open/read file: check file path/integrity\n"
     ]
    }
   ],
   "source": [
    "import cv2\n",
    "\n",
    "img = cv2.imread('sample.jpg')\n",
    "for pred in result['predictions']:\n",
    "    x = pred['x']\n",
    "    y = pred['y']\n",
    "    width = pred['width']\n",
    "    height = pred['height']\n",
    "    conf = pred['confidence']\n",
    "    obj_class = pred['class']\n",
    "    \n",
    "    # x1, y1 = int(x-width/2), int(y-height/2)\n",
    "    # x2, y2 = int(x+width/2), int(y+height/2)\n",
    "    # cv2.rectangle(img, (x1,y1), (x2, y2), (0,0,255), 2)\n",
    "    # cv2.putText(img, f'{obj_class} {conf:.4f}', (x1,y1), cv2.FONT_HERSHEY_PLAIN, 2, (0,0,255))\n",
    "    \n",
    "    print(x,y,width,height,conf,obj_class)\n",
    "\n",
    "# cv2.imshow('image',img)\n",
    "# cv2.waitKey()\n",
    "# cv2.destroyAllWindows()"
   ]
  },
  {
   "cell_type": "code",
   "execution_count": 12,
   "id": "e66c8812",
   "metadata": {},
   "outputs": [
    {
     "data": {
      "text/plain": [
       "{'inference_id': '02c8d3ad-bf0b-423f-8b56-ed7c5114b3b5',\n",
       " 'time': 0.042518700000073295,\n",
       " 'image': {'width': 416, 'height': 416},\n",
       " 'predictions': []}"
      ]
     },
     "execution_count": 12,
     "metadata": {},
     "output_type": "execute_result"
    }
   ],
   "source": [
    "result = CLIENT.infer('mnist/000001.jpg', model_id='numbers-ldmqq/3')\n",
    "result"
   ]
  },
  {
   "cell_type": "markdown",
   "id": "e1cd62bd",
   "metadata": {},
   "source": [
    "# model 가져오기"
   ]
  },
  {
   "cell_type": "code",
   "execution_count": 15,
   "id": "096750ed",
   "metadata": {},
   "outputs": [
    {
     "name": "stdout",
     "output_type": "stream",
     "text": [
      "loading Roboflow workspace...\n",
      "loading Roboflow project...\n"
     ]
    },
    {
     "data": {
      "text/plain": [
       "<roboflow.models.object_detection.ObjectDetectionModel at 0x7516353ca650>"
      ]
     },
     "execution_count": 15,
     "metadata": {},
     "output_type": "execute_result"
    }
   ],
   "source": [
    "from roboflow import Roboflow\n",
    "import cv2\n",
    "rf = Roboflow(api_key=os.getenv('ROBOFLOW_API_KEY'))\n",
    "project = rf.workspace().project('numbers-yt0h2')\n",
    "numbers_model = project.version(2).model\n",
    "numbers_model"
   ]
  },
  {
   "cell_type": "code",
   "execution_count": 19,
   "id": "f1c68ad1",
   "metadata": {},
   "outputs": [
    {
     "data": {
      "image/png": "[encoded data removed]",
      "text/plain": [
       "<Figure size 640x480 with 1 Axes>"
      ]
     },
     "metadata": {},
     "output_type": "display_data"
    }
   ],
   "source": [
    "import matplotlib.pyplot as plt\n",
    "import cv2\n",
    "\n",
    "filename = 'mnist/000001.jpg'\n",
    "\n",
    "# 1. 원본 이미지 읽기\n",
    "img = cv2.imread(filename)\n",
    "\n",
    "# 2. 모델 예측\n",
    "result = numbers_model.predict(filename, confidence=40, overlap=30)\n",
    "\n",
    "# 3. 바운딩박스 그리기\n",
    "for pred in result:\n",
    "    x, y = pred['x'], pred['y']\n",
    "    width, height = pred['width'], pred['height']\n",
    "    conf = pred['confidence']\n",
    "    cls = pred['class']\n",
    "    \n",
    "    x1, y1 = int(x - width/2), int(y - height/2)\n",
    "    x2, y2 = int(x + width/2), int(y + height/2)\n",
    "    \n",
    "    cv2.rectangle(img, (x1, y1), (x2, y2), (0,0,255), 2)\n",
    "    cv2.putText(img, f'{cls} {conf:.4f}', (x1, y1-5),\n",
    "                cv2.FONT_HERSHEY_PLAIN, 2, (0,0,255), 2)\n",
    "\n",
    "# 4. BGR -> RGB 변환 후 출력\n",
    "img_rgb = cv2.cvtColor(img, cv2.COLOR_BGR2RGB)\n",
    "\n",
    "plt.imshow(img_rgb)\n",
    "plt.axis(\"off\")\n",
    "plt.show()\n"
   ]
  }
 ],
 "metadata": {
  "kernelspec": {
   "display_name": "torch_cuda_env",
   "language": "python",
   "name": "python3"
  },
  "language_info": {
   "codemirror_mode": {
    "name": "ipython",
    "version": 3
   },
   "file_extension": ".py",
   "mimetype": "text/x-python",
   "name": "python",
   "nbconvert_exporter": "python",
   "pygments_lexer": "ipython3",
   "version": "3.10.18"
  }
 },
 "nbformat": 4,
 "nbformat_minor": 5
}
