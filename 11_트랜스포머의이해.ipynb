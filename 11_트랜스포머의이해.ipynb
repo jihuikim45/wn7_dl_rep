{
 "cells": [
  {
   "cell_type": "markdown",
   "id": "9d5807f9",
   "metadata": {},
   "source": [
    "# attention의 구조"
   ]
  },
  {
   "cell_type": "code",
   "execution_count": null,
   "id": "47210d6c",
   "metadata": {},
   "outputs": [],
   "source": [
    "import tensorflow as tfimport\n",
    "from tensorflow.keras import Model, layers"
   ]
  },
  {
   "cell_type": "code",
   "execution_count": null,
   "id": "f8d3976c",
   "metadata": {},
   "outputs": [],
   "source": [
    "# 인코더 - eng\n",
    "enc_input = layers.Input(shape=(4, 171))\n",
    "enc_output, state_h, state_C = layers.LSTM(128, return_sequencs=True, return_state=True)(enc_input)\n",
    "\n",
    "# 디코더 - kor\n",
    "dec_input = layers.Input(shape=(3, 171)) #1-start토큰 + 문자2\n",
    "dec_output, _, _ = layers.LSTM(128, return_sequences=True, return_state=True)(dec_input, initial_state=[state_h,state_c])\n"
   ]
  },
  {
   "cell_type": "code",
   "execution_count": null,
   "id": "a30e0a26",
   "metadata": {},
   "outputs": [],
   "source": [
    "# 어텐션 매커니즘\n",
    "context_vector = layers.Attention()([dec_output, enc_output])\n",
    "context_and_lstm_output = layers.Concatenate()([context_vector, dec_output])"
   ]
  },
  {
   "cell_type": "code",
   "execution_count": null,
   "id": "cbc9f99e",
   "metadata": {},
   "outputs": [],
   "source": [
    "# 디코더의 출력층 정의\n",
    "output = layers.Dense(171, activation='softmax')(context_and_lstm_output)\n"
   ]
  },
  {
   "cell_type": "code",
   "execution_count": null,
   "id": "c7a3719a",
   "metadata": {},
   "outputs": [],
   "source": [
    "Model(input=[])"
   ]
  },
  {
   "cell_type": "code",
   "execution_count": null,
   "id": "102a89c1",
   "metadata": {},
   "outputs": [],
   "source": []
  },
  {
   "cell_type": "code",
   "execution_count": null,
   "id": "a13eef7c",
   "metadata": {},
   "outputs": [],
   "source": []
  }
 ],
 "metadata": {
  "kernelspec": {
   "display_name": "torch_cuda_yolo_env",
   "language": "python",
   "name": "python3"
  },
  "language_info": {
   "name": "python",
   "version": "3.10.18"
  }
 },
 "nbformat": 4,
 "nbformat_minor": 5
}
